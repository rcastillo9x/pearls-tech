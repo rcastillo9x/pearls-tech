{
 "cells": [
  {
   "cell_type": "code",
   "id": "initial_id",
   "metadata": {
    "collapsed": true,
    "ExecuteTime": {
     "end_time": "2024-04-27T05:13:20.401317Z",
     "start_time": "2024-04-27T05:13:20.388498Z"
    }
   },
   "source": [
    "\n",
    "# Creating Tensors\n",
    "\n",
    "import tensorflow as tf\n",
    "tensor = tf.constant([[1, 2], [3, 4]])\n",
    "print(f\"tensor:{tensor}\")\n",
    "\n",
    "# Variable Tensors\n",
    "variable = tf.Variable([[1, 2], [3, 4]])\n",
    "print(f\"variable:{variable}\")\n",
    "\n",
    "# Basic Arithmetic Operations\n",
    "# Addition\n",
    "\n",
    "a = tf.constant([1, 2])\n",
    "b = tf.constant([3, 4])\n",
    "add_result = tf.add(a, b)  # Outputs [4, 6]\n",
    "print(f\"add_result:{add_result}\")\n",
    "\n",
    "# Subtraction\n",
    "subtract_result = tf.subtract(a, b)  # Outputs [-2, -2]\n",
    "print(f\"subtract_result:{subtract_result}\")\n",
    "\n",
    "# Multiplication (Element-wise)\n",
    "multiply_result = tf.multiply(a, b)  # Outputs [3, 8]\n",
    "print(f\"multiply_result:{multiply_result}\")\n",
    "\n",
    "# Division\n",
    "divide_result = tf.divide(b, a)  # Outputs [3.0, 2.0]\n",
    "print(f\"divide_result:{divide_result}\")\n",
    "\n",
    "# Matrix Operations\n",
    "# Matrix Multiplication\n",
    "matrix1 = tf.constant([[1, 2], [3, 4]])\n",
    "matrix2 = tf.constant([[2, 0], [1, 2]])\n",
    "matmul_result = tf.matmul(matrix1, matrix2)  # Outputs [[4, 4], [10, 8]]\n",
    "print(f\"matmul_result:{matmul_result}\")\n",
    "\n",
    "# Reshaping Tensors\n",
    "# Reshape\n",
    "\n",
    "tensor = tf.constant([1, 2, 3, 4, 5, 6])\n",
    "reshaped_tensor = tf.reshape(tensor, [2, 3])  # Reshapes to 2x3 matrix\n",
    "print(f\"reshaped_tensor:{reshaped_tensor}\")\n",
    "\n",
    "# Aggregation Operations\n",
    "# Sum\n",
    "sum_result = tf.reduce_sum(tensor)  # Sums all elements\n",
    "print(f\"sum_result:{sum_result}\")\n",
    "\n",
    "# Max by row\n",
    "sum_result2 = tf.reduce_sum(matrix1,axis=0)\n",
    "print(f\"sum_result2:{sum_result2}\")\n",
    "\n",
    "# Max by column\n",
    "sum_result3 = tf.reduce_sum(matrix1,axis=1)\n",
    "print(f\"sum_result3:{sum_result3}\")\n",
    "\n",
    "# Max\n",
    "max_result = tf.reduce_max(tensor)  # Finds the maximum value\n",
    "print(f\"max_result:{max_result}\")\n",
    "\n",
    "\n",
    "\n",
    "# Type Casting\n",
    "# Cast\n",
    "float_tensor = tf.cast(tensor, tf.float32)  # Casts integers to floats\n",
    "print(f\"float_tensor:{float_tensor}\")\n",
    "\n",
    "# Slicing and Indexing\n",
    "# Slicing\n",
    "sliced_tensor = tensor[1:3]  # Gets elements from index 1 to 2\n",
    "print(f\"sliced_tensor:{sliced_tensor}\")\n",
    "\n"
   ],
   "outputs": [
    {
     "name": "stdout",
     "output_type": "stream",
     "text": [
      "tensor:[[1 2]\n",
      " [3 4]]\n",
      "variable:<tf.Variable 'Variable:0' shape=(2, 2) dtype=int32, numpy=\n",
      "array([[1, 2],\n",
      "       [3, 4]], dtype=int32)>\n",
      "add_result:[4 6]\n",
      "subtract_result:[-2 -2]\n",
      "multiply_result:[3 8]\n",
      "divide_result:[3. 2.]\n",
      "matmul_result:[[ 4  4]\n",
      " [10  8]]\n",
      "reshaped_tensor:[[1 2 3]\n",
      " [4 5 6]]\n",
      "sum_result:21\n",
      "sum_result2:[4 6]\n",
      "sum_result3:[3 7]\n",
      "max_result:6\n",
      "float_tensor:[1. 2. 3. 4. 5. 6.]\n",
      "sliced_tensor:[2 3]\n"
     ]
    }
   ],
   "execution_count": 16
  },
  {
   "metadata": {
    "ExecuteTime": {
     "end_time": "2024-04-27T03:34:20.430660Z",
     "start_time": "2024-04-27T03:34:20.425707Z"
    }
   },
   "cell_type": "code",
   "source": [
    "# Define a tensor\n",
    "T1 = tf.Variable([1,2,3,4])\n",
    "\n",
    "# Convert to numpy\n",
    "N1 = T1.numpy()\n",
    "\n",
    "print(f\"T1: {T1}\")\n",
    "print(f\"N1: {N1}\")"
   ],
   "id": "b49d315280b54c1d",
   "outputs": [
    {
     "name": "stdout",
     "output_type": "stream",
     "text": [
      "T1: <tf.Variable 'Variable:0' shape=(4,) dtype=int32, numpy=array([1, 2, 3, 4], dtype=int32)>\n",
      "N1: [1 2 3 4]\n"
     ]
    }
   ],
   "execution_count": 8
  },
  {
   "metadata": {
    "ExecuteTime": {
     "end_time": "2024-04-27T03:46:19.941493Z",
     "start_time": "2024-04-27T03:46:19.931800Z"
    }
   },
   "cell_type": "code",
   "source": [
    "# Create a tensor of shape [2, 3] filled with ones\n",
    "ones_tensor = tf.ones([2, 3])\n",
    "print(\"tf.ones example:\")\n",
    "print(ones_tensor)"
   ],
   "id": "fea195e38e1fa328",
   "outputs": [
    {
     "name": "stdout",
     "output_type": "stream",
     "text": [
      "tf.ones example:\n",
      "tf.Tensor(\n",
      "[[1. 1. 1.]\n",
      " [1. 1. 1.]], shape=(2, 3), dtype=float32)\n"
     ]
    }
   ],
   "execution_count": 9
  },
  {
   "metadata": {},
   "cell_type": "markdown",
   "source": [
    "### Using tf.ones_like\n",
    "\n",
    "The tf.ones_like function creates a tensor with the same shape and datatype as an existing tensor, but fills it with ones. This is useful when you need a new tensor with the same size as another tensor but with all elements initialized to one."
   ],
   "id": "5fd3b089ca3e448e"
  },
  {
   "metadata": {
    "ExecuteTime": {
     "end_time": "2024-04-27T03:48:14.377526Z",
     "start_time": "2024-04-27T03:48:14.366092Z"
    }
   },
   "cell_type": "code",
   "source": [
    "# Assuming 'ones_tensor' from the previous example is defined\n",
    "# Create a tensor of ones with the same shape as 'ones_tensor'\n",
    "ones_like_tensor = tf.ones_like(ones_tensor)\n",
    "print(\"tf.ones_like example:\")\n",
    "print(ones_like_tensor)"
   ],
   "id": "6291520adacb1376",
   "outputs": [
    {
     "name": "stdout",
     "output_type": "stream",
     "text": [
      "tf.ones_like example:\n",
      "tf.Tensor(\n",
      "[[1. 1. 1.]\n",
      " [1. 1. 1.]], shape=(2, 3), dtype=float32)\n"
     ]
    }
   ],
   "execution_count": 10
  },
  {
   "metadata": {},
   "cell_type": "markdown",
   "source": [
    "### tf.matmul\n",
    "\n",
    "Function: tf.matmul is used for matrix multiplication. It performs the dot product between two tensors.\n",
    "Input Requirements: Both tensors must be of rank 2 or higher (i.e., matrices or higher-dimensional arrays where matrix multiplication is defined along certain dimensions).\n",
    "Use Case: This operation is commonly used in neural networks for performing linear transformations to the input data by weights, typical in layers of a deep learning model."
   ],
   "id": "3201dc04fd7b29e5"
  },
  {
   "metadata": {
    "ExecuteTime": {
     "end_time": "2024-04-27T03:56:33.761209Z",
     "start_time": "2024-04-27T03:56:33.756957Z"
    }
   },
   "cell_type": "code",
   "source": [
    "import tensorflow as tf\n",
    "\n",
    "# Define two 2D tensors (matrices)\n",
    "tensor1 = tf.constant([[1, 2], [3, 4]])\n",
    "tensor2 = tf.constant([[5, 6], [7, 8]])\n",
    "\n",
    "# Perform matrix multiplication\n",
    "result = tf.matmul(tensor1, tensor2)\n",
    "print(result)"
   ],
   "id": "d4c46a039deff055",
   "outputs": [
    {
     "name": "stdout",
     "output_type": "stream",
     "text": [
      "tf.Tensor(\n",
      "[[19 22]\n",
      " [43 50]], shape=(2, 2), dtype=int32)\n"
     ]
    }
   ],
   "execution_count": 11
  },
  {
   "metadata": {},
   "cell_type": "markdown",
   "source": [
    "Matrix multiplication involves multiplying rows of the first matrix by columns of the second matrix and summing the products. Here's the step-by-step breakdown:\n",
    "\n",
    "First element of the result matrix (Row 1, Column 1):\n",
    "Multiply the elements of the first row of tensor1 with the first column of tensor2:\n",
    "Calculation: 1×5+2×7=5+14=191×5+2×7=5+14=19\n",
    "\n",
    "Second element of the result matrix (Row 1, Column 2):\n",
    "Multiply the elements of the first row of tensor1 with the second column of tensor2:\n",
    "Calculation: 1×6+2×8=6+16=221×6+2×8=6+16=22\n",
    "\n",
    "Third element of the result matrix (Row 2, Column 1):\n",
    "Multiply the elements of the second row of tensor1 with the first column of tensor2:\n",
    "Calculation: 3×5+4×7=15+28=433×5+4×7=15+28=43\n",
    "\n",
    "Fourth element of the result matrix (Row 2, Column 2):\n",
    "Multiply the elements of the second row of tensor1 with the second column of tensor2:\n",
    "Calculation: 3×6+4×8=18+32=503×6+4×8=18+32=50"
   ],
   "id": "c892612ea6b4ab4c"
  },
  {
   "metadata": {},
   "cell_type": "markdown",
   "source": [
    "$$\n",
    "features = \\begin{bmatrix} 2 & 24 \\\\ 2 & 26 \\\\ 2 & 57 \\\\ 1 & 37 \\end{bmatrix}\n",
    "bill = \\begin{bmatrix} 3913 \\\\ 2682 \\\\ 8617 \\\\ 64400 \\end{bmatrix}\n",
    "params = \\begin{bmatrix} 1000 \\\\ 150 \\end{bmatrix}\n",
    "$$"
   ],
   "id": "23eb36b2611e904c"
  },
  {
   "metadata": {},
   "cell_type": "code",
   "outputs": [],
   "execution_count": null,
   "source": [
    "# Define features, params, and bill as constants\n",
    "features = tf.constant([[2, 24], [2, 26], [2, 57], [1, 37]])\n",
    "params = tf.constant([[1000], [150]])\n",
    "bill = tf.constant([[3913], [2682], [8617], [64400]])\n",
    "\n",
    "# Compute billpred using features and params\n",
    "billpred = tf.matmul(features,params)\n",
    "\n",
    "# Compute and print the error\n",
    "error = billpred - bill\n",
    "print(error.numpy())"
   ],
   "id": "92bce37fb6ccefce"
  },
  {
   "metadata": {},
   "cell_type": "markdown",
   "source": "# Tensor rank",
   "id": "f7b2f7a2fa3927df"
  },
  {
   "metadata": {
    "ExecuteTime": {
     "end_time": "2024-04-27T05:14:36.378114Z",
     "start_time": "2024-04-27T05:14:36.374977Z"
    }
   },
   "cell_type": "code",
   "source": [
    "#scalar\n",
    "a = tf.constant(1)\n",
    "a"
   ],
   "id": "29c1aa85bb0e4df4",
   "outputs": [
    {
     "name": "stdout",
     "output_type": "stream",
     "text": [
      "tf.Tensor(1, shape=(), dtype=int32)\n"
     ]
    }
   ],
   "execution_count": 18
  },
  {
   "metadata": {
    "ExecuteTime": {
     "end_time": "2024-04-27T05:15:03.581982Z",
     "start_time": "2024-04-27T05:15:03.578112Z"
    }
   },
   "cell_type": "code",
   "source": [
    "#vector\n",
    "b= tf.constant([1.2,2.3,3.4,4.5])\n",
    "b"
   ],
   "id": "3fd219ea44328ce8",
   "outputs": [
    {
     "data": {
      "text/plain": [
       "<tf.Tensor: shape=(4,), dtype=float32, numpy=array([1.2, 2.3, 3.4, 4.5], dtype=float32)>"
      ]
     },
     "execution_count": 19,
     "metadata": {},
     "output_type": "execute_result"
    }
   ],
   "execution_count": 19
  },
  {
   "metadata": {
    "ExecuteTime": {
     "end_time": "2024-04-27T05:15:31.708994Z",
     "start_time": "2024-04-27T05:15:31.704494Z"
    }
   },
   "cell_type": "code",
   "source": [
    "#matrix\n",
    "c =tf.constant([[1,2],[3,4]])\n",
    "c"
   ],
   "id": "5f69c38913f102df",
   "outputs": [
    {
     "data": {
      "text/plain": [
       "<tf.Tensor: shape=(2, 2), dtype=int32, numpy=\n",
       "array([[1, 2],\n",
       "       [3, 4]], dtype=int32)>"
      ]
     },
     "execution_count": 20,
     "metadata": {},
     "output_type": "execute_result"
    }
   ],
   "execution_count": 20
  },
  {
   "metadata": {
    "ExecuteTime": {
     "end_time": "2024-04-27T05:15:54.391399Z",
     "start_time": "2024-04-27T05:15:54.386941Z"
    }
   },
   "cell_type": "code",
   "source": [
    "#3-dimensional tensor\n",
    "d=tf.constant([[[1,2],[3,4],[5,6]],[[7,8],[9,10],[11,12]]])\n",
    "d\n"
   ],
   "id": "c1271b957c3cc469",
   "outputs": [
    {
     "data": {
      "text/plain": [
       "<tf.Tensor: shape=(2, 3, 2), dtype=int32, numpy=\n",
       "array([[[ 1,  2],\n",
       "        [ 3,  4],\n",
       "        [ 5,  6]],\n",
       "\n",
       "       [[ 7,  8],\n",
       "        [ 9, 10],\n",
       "        [11, 12]]], dtype=int32)>"
      ]
     },
     "execution_count": 21,
     "metadata": {},
     "output_type": "execute_result"
    }
   ],
   "execution_count": 21
  }
 ],
 "metadata": {
  "kernelspec": {
   "display_name": "Python 3",
   "language": "python",
   "name": "python3"
  },
  "language_info": {
   "codemirror_mode": {
    "name": "ipython",
    "version": 2
   },
   "file_extension": ".py",
   "mimetype": "text/x-python",
   "name": "python",
   "nbconvert_exporter": "python",
   "pygments_lexer": "ipython2",
   "version": "2.7.6"
  }
 },
 "nbformat": 4,
 "nbformat_minor": 5
}
